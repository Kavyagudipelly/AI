{
  "nbformat": 4,
  "nbformat_minor": 0,
  "metadata": {
    "colab": {
      "name": "min.ipynb",
      "provenance": [],
      "authorship_tag": "ABX9TyMgfJb2dCtMr02mDvz6p40J",
      "include_colab_link": true
    },
    "kernelspec": {
      "name": "python3",
      "display_name": "Python 3"
    },
    "language_info": {
      "name": "python"
    }
  },
  "cells": [
    {
      "cell_type": "markdown",
      "metadata": {
        "id": "view-in-github",
        "colab_type": "text"
      },
      "source": [
        "<a href=\"https://colab.research.google.com/github/Kavyagudipelly/AI/blob/main/min.ipynb\" target=\"_parent\"><img src=\"https://colab.research.google.com/assets/colab-badge.svg\" alt=\"Open In Colab\"/></a>"
      ]
    },
    {
      "cell_type": "code",
      "metadata": {
        "colab": {
          "base_uri": "https://localhost:8080/"
        },
        "id": "4pRQnFoZmtUH",
        "outputId": "09d23ffd-3b92-498f-e6d1-547dd0e49704"
      },
      "source": [
        "import numpy as np\n",
        "\n",
        "x = np.random.uniform(-10,10)\n",
        "\n",
        "eta = 0.007\n",
        "iterations = 5000\n",
        "\n",
        "for i in range(iterations):\n",
        "    gradx = 4 * (x**3) + 6*x\n",
        "    stepx = -eta*gradx\n",
        "    x += stepx\n",
        "\n",
        "x = round(x)\n",
        "print(f'The value of x is : ', x)\n",
        "print(f'Minimum Value of f(x) : ', (x*4)+3*x*2+10 )"
      ],
      "execution_count": 1,
      "outputs": [
        {
          "output_type": "stream",
          "name": "stdout",
          "text": [
            "The value of x is :  0\n",
            "Minimum Value of f(x) :  10\n"
          ]
        }
      ]
    }
  ]
}