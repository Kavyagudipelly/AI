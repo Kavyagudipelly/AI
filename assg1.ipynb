{
  "nbformat": 4,
  "nbformat_minor": 0,
  "metadata": {
    "colab": {
      "name": "assg1.ipynb",
      "provenance": [],
      "authorship_tag": "ABX9TyNu1RErObkpatleuSW7YFl9",
      "include_colab_link": true
    },
    "kernelspec": {
      "name": "python3",
      "display_name": "Python 3"
    },
    "language_info": {
      "name": "python"
    }
  },
  "cells": [
    {
      "cell_type": "markdown",
      "metadata": {
        "id": "view-in-github",
        "colab_type": "text"
      },
      "source": [
        "<a href=\"https://colab.research.google.com/github/Kavyagudipelly/AI/blob/main/assg1.ipynb\" target=\"_parent\"><img src=\"https://colab.research.google.com/assets/colab-badge.svg\" alt=\"Open In Colab\"/></a>"
      ]
    },
    {
      "cell_type": "code",
      "metadata": {
        "colab": {
          "base_uri": "https://localhost:8080/"
        },
        "id": "ercydE_am1DU",
        "outputId": "0016d93a-8e79-4b0a-c94b-b73e13985800"
      },
      "source": [
        "from scipy.optimize import linprog\n",
        "obj=[-50,-120]\n",
        "Are=[[7000,2000],[10,30],[1,1]]\n",
        "bre=[700000,1200,110]\n",
        "bound=[(0,float('inf')),(0,float('inf'))]\n",
        "ans=linprog(c=obj,A_ub=Are,b_ub=bre,A_eq=None,b_eq=None,bounds=bound,method=\"simplex\")\n",
        "ans.x\n",
        "print(round(ans.x[0]))\n",
        "print(round(ans.x[1]))\n",
        "x,y=ans.x\n",
        "profit=x*50+y*120\n",
        "print('profit is=',profit)\n",
        "\n"
      ],
      "execution_count": 2,
      "outputs": [
        {
          "output_type": "stream",
          "text": [
            "98\n",
            "7\n",
            "profit is= 5778.9473684210525\n"
          ],
          "name": "stdout"
        }
      ]
    }
  ]
}